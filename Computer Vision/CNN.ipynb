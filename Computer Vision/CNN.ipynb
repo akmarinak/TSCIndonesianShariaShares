{
  "nbformat": 4,
  "nbformat_minor": 0,
  "metadata": {
    "colab": {
      "name": "Dicoding_Akmarina.ipynb",
      "provenance": [],
      "collapsed_sections": []
    },
    "kernelspec": {
      "name": "python3",
      "display_name": "Python 3"
    },
    "accelerator": "TPU"
  },
  "cells": [
    {
      "cell_type": "markdown",
      "metadata": {
        "id": "aJcsx12vGNRP",
        "colab_type": "text"
      },
      "source": [
        "<h1>Computer Vision with Tensorflow</h1>\n",
        "> by: Akmarina Khairunnisa\n",
        "\n",
        "\n",
        "Convolutional Neural Networks (CNNs) leverage spatial information, and they are therefore well suited for classifying images. We will learn how to write a CNN program in the most powerful, popular, and scalable machine learning stack available; **TensorFlow** and **Keras**. The program must be able to recognize the shape of the hands that make up scissors, rock, or paper.\n",
        "\n",
        "There are many complex tasks that can be done with computer vision and can be solved by composing CNNs into larger and more complex architectures.\n",
        " - Classification\n",
        " - Semantic Segmentation\n",
        " - Classification and Localizing\n",
        " - Object Detection\n",
        " - Instance Segmentation\n",
        "\n",
        "This project requires us to carry out classification tasks. In the classification task we will have to report the class of object found in the image, but also the coordinates of the bounding box where the object appears in the image. This type of task assumes that there is only one instance of the object in an image.\n"
      ]
    },
    {
      "cell_type": "markdown",
      "metadata": {
        "id": "QFEx-3oaGTP5",
        "colab_type": "text"
      },
      "source": [
        "<h2>Module for Image Processing</h2>\n",
        "<h4>Tensorflow 2.0</h4>\n",
        "\n",
        "make sure to use tensorflow 2.0 or later because the 2.0 release has the\n",
        "improved usability, clarity, and flexibility of TensorFlow"
      ]
    },
    {
      "cell_type": "code",
      "metadata": {
        "id": "C2I_VKZlJSCJ",
        "colab_type": "code",
        "colab": {
          "base_uri": "https://localhost:8080/",
          "height": 34
        },
        "outputId": "04a95953-83df-4d1d-8756-b3a59fe46378"
      },
      "source": [
        "import tensorflow as tf\n",
        "print(tf.__version__)"
      ],
      "execution_count": 1,
      "outputs": [
        {
          "output_type": "stream",
          "text": [
            "2.2.0\n"
          ],
          "name": "stdout"
        }
      ]
    },
    {
      "cell_type": "markdown",
      "metadata": {
        "id": "2i_KoMg-74eC",
        "colab_type": "text"
      },
      "source": [
        "upgrade TensorFlow **only if** you got the older version of it, with this code below"
      ]
    },
    {
      "cell_type": "code",
      "metadata": {
        "id": "banDeBl5KPwn",
        "colab_type": "code",
        "colab": {}
      },
      "source": [
        "!pip install tensorflow --upgrade"
      ],
      "execution_count": null,
      "outputs": []
    },
    {
      "cell_type": "markdown",
      "metadata": {
        "id": "gzDQCNU0W-Dw",
        "colab_type": "text"
      },
      "source": [
        "<h2>Get the Data</h2>\n",
        "\n",
        "<h3>Download File from the URL</h3>\n",
        "\n",
        "Avoiding SSL Certificate Error with \"--no-check-certificate\"\n",
        "the output file of the link operation will be saved on temporary folder"
      ]
    },
    {
      "cell_type": "code",
      "metadata": {
        "id": "rBltD3yFWh3i",
        "colab_type": "code",
        "colab": {
          "base_uri": "https://localhost:8080/",
          "height": 204
        },
        "outputId": "3208f91d-ab02-4c98-8b74-cc5ac04649ce"
      },
      "source": [
        "# Avoid SSL Certificate Error with \"--no-check-certificate\"\n",
        "!wget --no-check-certificate \\\n",
        "  https://dicodingacademy.blob.core.windows.net/picodiploma/ml_pemula_academy/rockpaperscissors.zip \\\n",
        "  -O /tmp/rockpaperscissors.zip\n",
        "# The output file of the link operation saved on temporary folder (\\tmp)"
      ],
      "execution_count": 2,
      "outputs": [
        {
          "output_type": "stream",
          "text": [
            "--2020-07-30 05:20:39--  https://dicodingacademy.blob.core.windows.net/picodiploma/ml_pemula_academy/rockpaperscissors.zip\n",
            "Resolving dicodingacademy.blob.core.windows.net (dicodingacademy.blob.core.windows.net)... 52.239.197.36\n",
            "Connecting to dicodingacademy.blob.core.windows.net (dicodingacademy.blob.core.windows.net)|52.239.197.36|:443... connected.\n",
            "HTTP request sent, awaiting response... 200 OK\n",
            "Length: 322873683 (308M) [application/zip]\n",
            "Saving to: ‘/tmp/rockpaperscissors.zip’\n",
            "\n",
            "/tmp/rockpapersciss 100%[===================>] 307.92M  6.93MB/s    in 45s     \n",
            "\n",
            "2020-07-30 05:21:25 (6.89 MB/s) - ‘/tmp/rockpaperscissors.zip’ saved [322873683/322873683]\n",
            "\n"
          ],
          "name": "stdout"
        }
      ]
    },
    {
      "cell_type": "markdown",
      "metadata": {
        "id": "uH5amRevl5Kv",
        "colab_type": "text"
      },
      "source": [
        "<h3>Extract the Zip File</h3>\n",
        "\n",
        "The data is extracted from the ZIP file, and stored in each directory in the temporary folder (tmp)"
      ]
    },
    {
      "cell_type": "code",
      "metadata": {
        "id": "SdmDFWh8g9T1",
        "colab_type": "code",
        "colab": {}
      },
      "source": [
        "from zipfile import ZipFile\n",
        "local_zip = '/tmp/rockpaperscissors.zip'\n",
        "zip_ref = ZipFile(local_zip,'r') # create a ZipFile object in READ mode and name it as zip_ref\n",
        "zip_ref.extractall('/tmp') # Extract all the contents of the zip file in temporary folder\n",
        "zip_ref.close() # Close the archive file so the essential records will be written"
      ],
      "execution_count": 3,
      "outputs": []
    },
    {
      "cell_type": "markdown",
      "metadata": {
        "id": "0AD6ZzM6ziZX",
        "colab_type": "text"
      },
      "source": [
        "The `os` module in python provides many functions to interact with the file system. It is used in this project to manage the file which is saved in `tmp` and create some directories for better data management.\n",
        "Some functions will be used in here are,\n",
        "- `os.mkdir` which is used in Python to create a directory named path with the specified numeric mode\n",
        "- `os.path.join` is used to join one or more path components intelligently. This function concatenates various path components with exactly one directory\n",
        "- `os.listdir` returns a list containing the names of the entries in the directory given by path. The list is in arbitrary order."
      ]
    },
    {
      "cell_type": "code",
      "metadata": {
        "id": "5ppjlxecO_IN",
        "colab_type": "code",
        "colab": {}
      },
      "source": [
        "import os\n",
        "base_dir = '/tmp/rockpaperscissors'\n",
        "train_dir = '/tmp/rockpaperscissors/train'\n",
        "os.mkdir(train_dir,mode=0o777)\n",
        "validation_dir = '/tmp/rockpaperscissors/validation'\n",
        "os.mkdir(validation_dir,mode=0o777)"
      ],
      "execution_count": 4,
      "outputs": []
    },
    {
      "cell_type": "code",
      "metadata": {
        "id": "x8Ed77cNmQrl",
        "colab_type": "code",
        "colab": {}
      },
      "source": [
        "rock_dir = os.path.join(base_dir,'rock')\n",
        "paper_dir = os.path.join(base_dir,'paper')\n",
        "scissors_dir = os.path.join(base_dir,'scissors')"
      ],
      "execution_count": 5,
      "outputs": []
    },
    {
      "cell_type": "markdown",
      "metadata": {
        "id": "ohLee-m3W-rB",
        "colab_type": "text"
      },
      "source": [
        "print the number of images in each class"
      ]
    },
    {
      "cell_type": "code",
      "metadata": {
        "id": "C7yRCaxJfChE",
        "colab_type": "code",
        "colab": {
          "base_uri": "https://localhost:8080/",
          "height": 68
        },
        "outputId": "2840274e-cf13-4ea5-a3a9-2c50e263fada"
      },
      "source": [
        "print(\"Rock : \",len(os.listdir(rock_dir)))\n",
        "print(\"Paper : \",len(os.listdir(paper_dir)))\n",
        "print(\"Scissors : \",len(os.listdir(scissors_dir)))"
      ],
      "execution_count": 6,
      "outputs": [
        {
          "output_type": "stream",
          "text": [
            "Rock :  726\n",
            "Paper :  712\n",
            "Scissors :  750\n"
          ],
          "name": "stdout"
        }
      ]
    },
    {
      "cell_type": "markdown",
      "metadata": {
        "id": "ffCc7Y1SYjOT",
        "colab_type": "text"
      },
      "source": [
        "create the classes folder in each; training data folder and data validation folder"
      ]
    },
    {
      "cell_type": "code",
      "metadata": {
        "id": "RSOQib9tOaIP",
        "colab_type": "code",
        "colab": {}
      },
      "source": [
        "# Training Data Directory for Rock\n",
        "train_rock_dir = os.path.join(train_dir,'rock')\n",
        "os.mkdir(train_rock_dir,mode=0o777)\n",
        "# Training Data Directory for Paper\n",
        "train_paper_dir = os.path.join(train_dir,'paper')\n",
        "os.mkdir(train_paper_dir,mode=0o777)\n",
        "# Training Data Directory for Scissors\n",
        "train_scissors_dir = os.path.join(train_dir,'scissors')\n",
        "os.mkdir(train_scissors_dir,mode=0o777)\n",
        "# Validation Data Directory for Rock\n",
        "validation_rock_dir = os.path.join(validation_dir,'rock')\n",
        "os.mkdir(validation_rock_dir,mode=0o777)\n",
        "# Validation Data Directory for Paper\n",
        "validation_paper_dir = os.path.join(validation_dir,'paper')\n",
        "os.mkdir(validation_paper_dir,mode=0o777)\n",
        "# Validation Data Directory for Scissors\n",
        "validation_scissors_dir = os.path.join(validation_dir,'scissors')\n",
        "os.mkdir(validation_scissors_dir,mode=0o777)"
      ],
      "execution_count": 7,
      "outputs": []
    },
    {
      "cell_type": "markdown",
      "metadata": {
        "id": "RYYwt5DchkUr",
        "colab_type": "text"
      },
      "source": [
        "Dividing the data into training dataset and validation dataset. One of the requirements that must be metin this project is: validation data must be 40 percent of the total dataset"
      ]
    },
    {
      "cell_type": "code",
      "metadata": {
        "colab_type": "code",
        "id": "sV3vHIvFMtrA",
        "colab": {}
      },
      "source": [
        "from random import sample\n",
        "from shutil import copyfile\n",
        "\n",
        "def split_data(source, training, validation, val_size):\n",
        "    list_all=os.listdir(source)\n",
        "    size=len(os.listdir(source))\n",
        "    list_val=sample(list_all, (int(float(size)*val_size)))\n",
        "    list_train=list(set(list_all) - set(list_val))\n",
        "    \n",
        "    for file in list_train:\n",
        "        name = os.path.join(source,file)\n",
        "        new_name = os.path.join(training, file)\n",
        "        if os.path.isfile(name) and os.path.getsize(name)>0 :\n",
        "            copyfile(name,new_name)\n",
        "            os.chmod(new_name, 0o777)\n",
        "        else :\n",
        "            print('file does not exist', name)\n",
        "            \n",
        "    for file in list_val:\n",
        "        name = os.path.join(source,file)\n",
        "        new_name = os.path.join(validation,file)\n",
        "        if os.path.isfile(name) and os.path.getsize(name)>0  :\n",
        "            copyfile(name,new_name)\n",
        "            os.chmod(new_name,0o777)\n",
        "        else :\n",
        "            print('file does not exist', name)"
      ],
      "execution_count": 8,
      "outputs": []
    },
    {
      "cell_type": "code",
      "metadata": {
        "id": "6yFZPe2B0zYB",
        "colab_type": "code",
        "colab": {}
      },
      "source": [
        "split_data(paper_dir, train_paper_dir, validation_paper_dir, 0.4)\n",
        "split_data(rock_dir, train_rock_dir, validation_rock_dir, 0.4)\n",
        "split_data(scissors_dir, train_scissors_dir, validation_scissors_dir, 0.4)"
      ],
      "execution_count": 9,
      "outputs": []
    },
    {
      "cell_type": "markdown",
      "metadata": {
        "id": "Ji8PBLI-dZU1",
        "colab_type": "text"
      },
      "source": [
        "print the number of images on each class in training and validation dataset"
      ]
    },
    {
      "cell_type": "code",
      "metadata": {
        "id": "ANu2tuGefUN7",
        "colab_type": "code",
        "colab": {
          "base_uri": "https://localhost:8080/",
          "height": 119
        },
        "outputId": "a4f33b17-98fd-45a6-eb7b-bbe86f6d32ff"
      },
      "source": [
        "print(\"Paper Training: \",len(os.listdir(train_paper_dir)))\n",
        "print(\"Paper Validation: \",len(os.listdir(validation_paper_dir)))\n",
        "print(\"Rock Training: \",len(os.listdir(train_rock_dir)))\n",
        "print(\"Rock Validation: \",len(os.listdir(validation_rock_dir)))\n",
        "print(\"Scissors Training: \",len(os.listdir(train_scissors_dir)))\n",
        "print(\"Scissors Validation: \",len(os.listdir(validation_scissors_dir)))"
      ],
      "execution_count": 10,
      "outputs": [
        {
          "output_type": "stream",
          "text": [
            "Paper Training:  428\n",
            "Paper Validation:  284\n",
            "Rock Training:  436\n",
            "Rock Validation:  290\n",
            "Scissors Training:  450\n",
            "Scissors Validation:  300\n"
          ],
          "name": "stdout"
        }
      ]
    },
    {
      "cell_type": "markdown",
      "metadata": {
        "id": "M1N9FNoj7sl8",
        "colab_type": "text"
      },
      "source": [
        "<h2>Image Preprocessing (Data Augmentation) </h2>\n",
        "\n",
        "Data Augmentation is a method of **artificially creating a new dataset for training from the existing training dataset** to improve the performance of deep learning neural networks with the amount of data available. It is a form of regularization which makes our model generalize better than before. It must be noted that Data Augmentation **doesn't add more training data**, instead it replaces the original training batch with the new randomly transformed batch.\n",
        "\n",
        "Here we have used a Keras `ImageDataGenerator` object to apply data augmentation to the images for randomly translating, resizing, rotating, etc. Each new batch of our data is randomly adjusting according to the parameters supplied to `ImageDataGenerator`.\n",
        "\n",
        "\n",
        "The datasets we download contains folders of data corresponding to the respective classes. This led to the need for a method that takes the path to a directory and generates batches of augmented data. In Keras this is done using the `flow_from_directory(directory)` method for the augmentation because the labels are inferred from directory structure.\n",
        "\n",
        "**Arguments**\n",
        "- `featurewise_center` is a boolean value which calculates the mean pixel value across the entire training dataset, then subtract it from each image. This is called centering and has effect of centering the distribution of pixel values on zero.\n",
        "\n",
        "- `rescale` is a value by which we will multiply the data before any other processing. Our original images consist in RGB coefficients in the 0 - 255, but such values would be too high for our models to process (given a typical learning rate), so we target values between 0 and 1 instead by scaling with a 1./255 factor.\n",
        "\n",
        "- `width_shift_range` and `height_shift_range` are ranges within which to randomly translate pictures vertically or horizontally. The range could be as a float, 1-D array-like or int. The code here using the 1-D array-like type which includes random elements from the array\n",
        "(\"-shift_range\", \"shift_range\") \n",
        "\n",
        "- `brightness_range` is a tuple or list of two floats which range for picking a brightness shift value from\n",
        "\n",
        "- `shear_range` is for randomly applying shearing transformations. \n",
        "It stretch the image at a certain angle known as the shear angle (Shear angle in counter-clockwise direction in degrees). This creates a sort of ‘stretch’ in the image, which is not seen in rotation. shear_range specifies the angle of the slant in degrees\n",
        "\n",
        "- `zoom_range` is a value for randomly zooming inside pictures\n",
        "\n",
        "- `rotation_range` is a value in degrees (0 - 180) range which randomly rotate pictures\n",
        "\n",
        "- `horizontal_flip` is a boolean which randomly flip inputs horizontally.\n",
        "\n",
        "- `vertical_flip` is a boolean Randomly flip inputs vertically.\n",
        "\n",
        "- `fill_mode` is One of {\"constant\", \"nearest\", \"reflect\" or \"wrap\"}. \n",
        "It is the strategy used for filling in newly created pixels, which can appear after a rotation or a width/height shift.\n",
        "Points outside the boundaries of the input are filled according to the given mode: \n",
        "    - 'constant': kkkkkkkk|abcd|kkkkkkkk (cval=k) \n",
        "    - 'nearest': aaaaaaaa|abcd|dddddddd \n",
        "    - 'reflect': abcddcba|abcd|dcbaabcd \n",
        "    - 'wrap': abcdabcd|abcd|abcdabcd\n"
      ]
    },
    {
      "cell_type": "code",
      "metadata": {
        "id": "u9VKDKEwBadM",
        "colab_type": "code",
        "colab": {
          "base_uri": "https://localhost:8080/",
          "height": 51
        },
        "outputId": "da3f888f-fae3-43eb-a9ec-ee7bbd0c7ddf"
      },
      "source": [
        "# define data augmentation configuration\n",
        "from tensorflow.keras.preprocessing.image import ImageDataGenerator\n",
        "num_classes=3\n",
        "img_rows,img_cols=120,120\n",
        "batch_size=32\n",
        "\n",
        "train_datagen = ImageDataGenerator(\n",
        "        rescale=1/255.0,\n",
        "        zoom_range=0.25,\n",
        "        horizontal_flip=True,\n",
        "        vertical_flip=True,\n",
        "        fill_mode='nearest')\n",
        "validation_datagen = ImageDataGenerator(\n",
        "        rescale=1/255.0)\n",
        "# setup generator\n",
        "train_generator = train_datagen.flow_from_directory(\n",
        "        train_dir,\n",
        "        target_size=(img_rows,img_cols),\n",
        "        batch_size=batch_size,\n",
        "        class_mode='categorical',\n",
        "        color_mode='rgb',\n",
        "        shuffle=True)\n",
        "validation_generator = validation_datagen.flow_from_directory(\n",
        "        validation_dir,\n",
        "        target_size=(img_rows,img_cols),\n",
        "        batch_size=batch_size,\n",
        "        class_mode='categorical',\n",
        "        color_mode='rgb',\n",
        "        shuffle=False)\n"
      ],
      "execution_count": 11,
      "outputs": [
        {
          "output_type": "stream",
          "text": [
            "Found 1314 images belonging to 3 classes.\n",
            "Found 874 images belonging to 3 classes.\n"
          ],
          "name": "stdout"
        }
      ]
    },
    {
      "cell_type": "markdown",
      "metadata": {
        "id": "Baaa_qcjBVcm",
        "colab_type": "text"
      },
      "source": [
        "<h2>Build CNN Architecture</h2>\n",
        "<h4>Import the Module</h4>\n",
        "\n",
        "There are several steps in building the CNN model in this project:\n",
        "- **Convolutional**\n",
        ">import `Conv2D` to carry out convolutional operations in training images\n",
        "- **Pooling**\n",
        ">`MaxPooling2D` usually used for its pooling operation to reduce spatial dimensions in between residual modules\n",
        "- **Flatten**\n",
        ">import `Flatten` for its flattening function\n",
        "- **Full Connection**\n",
        ">import `Dense` to run our full neural network connection\n",
        "\n",
        "\n",
        "\n"
      ]
    },
    {
      "cell_type": "code",
      "metadata": {
        "id": "oeQeEh2upWt3",
        "colab_type": "code",
        "colab": {}
      },
      "source": [
        "from tensorflow.keras import Input\n",
        "from tensorflow.keras.models import Sequential\n",
        "from tensorflow.keras.layers import Conv2D, MaxPooling2D, Flatten, Dense"
      ],
      "execution_count": 12,
      "outputs": []
    },
    {
      "cell_type": "markdown",
      "metadata": {
        "id": "tupMKWHkpwXB",
        "colab_type": "text"
      },
      "source": [
        "<h3>Create a Sequential Model</h3>\n",
        "\n",
        "A `Sequential` model is appropriate for a plain stack of layers where each layer has **exactly one input tensor and one output tensor**. `Sequential` groups a linear stack of layers into a tf.keras.Model.\n",
        "`Sequential` provides training and inference features on this model.\n"
      ]
    },
    {
      "cell_type": "markdown",
      "metadata": {
        "id": "vO3MfW3ZIPkN",
        "colab_type": "text"
      },
      "source": [
        "<h3>Convolutional using Conv2D</h3>\n",
        "\n",
        "We are going to use the Keras `Conv2D` class to implement a simple CNN.\n",
        "\n",
        "**Arguments**\n",
        "- `filters` explains the number of filters that the Convolutional layer will learn.\n",
        "Layers closer to the actual input image learn fewer convolutional filters, while layers closer to the output predictions will learn more filters.\n",
        "The exact range of the values may be different for each person, but start with a smaller number of filters and only increase when necessary.\n",
        "\n",
        "- `kernel_size` is a 2-tuple specifying the width and height of the convolution window. **The `kernel_size` must be an odd integer**. Typical values for `kernel_size` include: `(1,1)` , `(3,3)` , `(5,5)` , `(7,7)`. It's rare to see kernel sizes larger than 7x7.\n",
        "If our input images are greater than 128x128 we may choose to use a `kernel_size` > 3 to learn larger features and then quickly reduce spatial dimensions - then start working with 3x3 kernels to help\n",
        "\n",
        "- `strides` is a parameter in 2-tuple of integers, specifying the \"step\" of the convolutional along the x and y axis of the input volume. It reduces spatial dimensions of the volume\n",
        "\n",
        "- The `padding` parameter to the Keras Conv2D class can take on one of two values of `valid` or `same`. With the `same` for the `padding`, the output volume size will match the input volume size because the spatial dimensions of the volume are preserved.\n",
        "\n",
        "- The `activation` parameter to the `Conv2D` class is simply a convenience parameter, allowing us to supply a string specifying the name of the activation function we want to apply after performing the convolution. For dataset that have 3 or more classes, use the Softmax activation function in the output layer - the output of this layer are the prediction values themselves. The softmax activation function will choose which class has the highest probability.\n",
        "\n",
        "- The `use_bias` parameter of the `Conv2D` class controls whether a bias vector is added to the convolutional layer. Typically you'll want to leave this value as `True`.\n",
        "\n",
        "\n",
        "`Dropout`'s purpose is to help your network generalize and not overfit. Neurons from the current layer, with probability p, will randomly disconect from neurons in the next layer so that the network has to rely on the existing connections. "
      ]
    },
    {
      "cell_type": "markdown",
      "metadata": {
        "id": "aw-mzPwJsRkZ",
        "colab_type": "text"
      },
      "source": [
        "<h3>Pooling</h3>\n",
        "\n",
        "Pooling aims to reduce the size of the image as much as possible. Here also we try to reduce the total number of nodes in the next layer. Pooling in the form of a 2x2 matrix as minimum pixel loss and precise region where features are allocated."
      ]
    },
    {
      "cell_type": "markdown",
      "metadata": {
        "id": "pBL0Zi_srpXA",
        "colab_type": "text"
      },
      "source": [
        "<h3>Flatten</h3>\n",
        "\n",
        "Next is the flattening process. The pooling data that we have are in the form of 2-dimensional arrays and then converted to single vector one-dimensional data."
      ]
    },
    {
      "cell_type": "markdown",
      "metadata": {
        "id": "fPtzWP_HsYxp",
        "colab_type": "text"
      },
      "source": [
        "<h3>Dense</h3>\n",
        "\n",
        "Dense layer on Keras is a layer that can be used as a hidden layer and output layer on an MLP."
      ]
    },
    {
      "cell_type": "code",
      "metadata": {
        "id": "U_z4KPGTBchb",
        "colab_type": "code",
        "colab": {}
      },
      "source": [
        "# Create a Sequential model by passing a list of layers to the Sequential constructor\n",
        "from tensorflow.keras.layers import Dropout\n",
        "model = Sequential([Conv2D(filters=32, kernel_size=(3,3), padding='same', activation='relu', \n",
        "                           input_shape=(img_rows,img_cols,3)),\n",
        "                    MaxPooling2D(pool_size=(2,2)),\n",
        "                    Conv2D(filters=32, kernel_size=(3,3), padding='same', activation='relu'),\n",
        "                    MaxPooling2D(pool_size=(2,2)),\n",
        "                    Dropout(0.25),\n",
        "                    Conv2D(filters=64, kernel_size=(3,3), padding='same',activation='relu'),\n",
        "                    MaxPooling2D(pool_size=(2,2)),\n",
        "                    Conv2D(filters=128, kernel_size=(3,3), padding='same',activation='relu'),\n",
        "                    MaxPooling2D(pool_size=(2,2)),\n",
        "                    Dropout(0.25),\n",
        "                    Flatten(),\n",
        "                    Dropout(0.5),\n",
        "                    Dense(units=512, activation='relu'),\n",
        "                    Dense(units=num_classes, activation='softmax')])"
      ],
      "execution_count": 13,
      "outputs": []
    },
    {
      "cell_type": "code",
      "metadata": {
        "id": "g-BBl-IcpmQ5",
        "colab_type": "code",
        "colab": {
          "base_uri": "https://localhost:8080/",
          "height": 646
        },
        "outputId": "0fa17241-a1c7-474d-bb35-ee8812cee18d"
      },
      "source": [
        "print(model.summary())"
      ],
      "execution_count": 14,
      "outputs": [
        {
          "output_type": "stream",
          "text": [
            "Model: \"sequential\"\n",
            "_________________________________________________________________\n",
            "Layer (type)                 Output Shape              Param #   \n",
            "=================================================================\n",
            "conv2d (Conv2D)              (None, 120, 120, 32)      896       \n",
            "_________________________________________________________________\n",
            "max_pooling2d (MaxPooling2D) (None, 60, 60, 32)        0         \n",
            "_________________________________________________________________\n",
            "conv2d_1 (Conv2D)            (None, 60, 60, 32)        9248      \n",
            "_________________________________________________________________\n",
            "max_pooling2d_1 (MaxPooling2 (None, 30, 30, 32)        0         \n",
            "_________________________________________________________________\n",
            "dropout (Dropout)            (None, 30, 30, 32)        0         \n",
            "_________________________________________________________________\n",
            "conv2d_2 (Conv2D)            (None, 30, 30, 64)        18496     \n",
            "_________________________________________________________________\n",
            "max_pooling2d_2 (MaxPooling2 (None, 15, 15, 64)        0         \n",
            "_________________________________________________________________\n",
            "conv2d_3 (Conv2D)            (None, 15, 15, 128)       73856     \n",
            "_________________________________________________________________\n",
            "max_pooling2d_3 (MaxPooling2 (None, 7, 7, 128)         0         \n",
            "_________________________________________________________________\n",
            "dropout_1 (Dropout)          (None, 7, 7, 128)         0         \n",
            "_________________________________________________________________\n",
            "flatten (Flatten)            (None, 6272)              0         \n",
            "_________________________________________________________________\n",
            "dropout_2 (Dropout)          (None, 6272)              0         \n",
            "_________________________________________________________________\n",
            "dense (Dense)                (None, 512)               3211776   \n",
            "_________________________________________________________________\n",
            "dense_1 (Dense)              (None, 3)                 1539      \n",
            "=================================================================\n",
            "Total params: 3,315,811\n",
            "Trainable params: 3,315,811\n",
            "Non-trainable params: 0\n",
            "_________________________________________________________________\n",
            "None\n"
          ],
          "name": "stdout"
        }
      ]
    },
    {
      "cell_type": "markdown",
      "metadata": {
        "id": "dDqJtLz7Lz4c",
        "colab_type": "text"
      },
      "source": [
        "<h2>Callbacks</h2>\n",
        "\n",
        "Usage of callbacks via the built-in `fit()` loop. We will pass a custom callback to the `.fit()` method of a model. The relevant methods of the callbacks will then be called at each stage of the training."
      ]
    },
    {
      "cell_type": "code",
      "metadata": {
        "id": "VbIb_Mx4R37P",
        "colab_type": "code",
        "colab": {}
      },
      "source": [
        "accuracythreshold=96e-2\n",
        "\n",
        "class AccCallback(tf.keras.callbacks.Callback): \n",
        "    def on_epoch_end(self, epoch, logs={}): \n",
        "        if(logs.get('accuracy') >= accuracythreshold):   \n",
        "          print(\"\\nReached %2.2f%% accuracy, so stopping training!!\" %(accuracythreshold*100))   \n",
        "          self.model.stop_training = True"
      ],
      "execution_count": 15,
      "outputs": []
    },
    {
      "cell_type": "markdown",
      "metadata": {
        "id": "QfZF1l9zSLmz",
        "colab_type": "text"
      },
      "source": [
        "<h2>Model Compiler</h2>\n",
        "\n",
        "Now that we have finished building the CNN model, it's time to compile.\n",
        "- `optimizer` parameter to determine the stochastic gradient descent algorithm\n",
        "- `loss` parameter to determine the loss function\n",
        "- `metrics` parameter to determine the performance metric"
      ]
    },
    {
      "cell_type": "code",
      "metadata": {
        "id": "ptUlZmbfEOqh",
        "colab_type": "code",
        "colab": {}
      },
      "source": [
        "# Compile the Model\n",
        "from tensorflow.keras.optimizers import RMSprop\n",
        "model.compile(loss='categorical_crossentropy',\n",
        "              optimizer=RMSprop(),\n",
        "              metrics=['accuracy'])\n"
      ],
      "execution_count": 16,
      "outputs": []
    },
    {
      "cell_type": "markdown",
      "metadata": {
        "id": "PwkTSviVnxyJ",
        "colab_type": "text"
      },
      "source": [
        "<h2> Model Training </h2>\n",
        "\n",
        "In training the model, we use the `.fit` function.\n",
        "TensorFlow is in the process of deprecating the `.fit_generator` method which supported data augmentation. If we are using `tensorflow==2.2.0` or `tensorflow-gpu==2.2.0` (or higher), then we must use the `.fit` method (which now supports data augmentation) \n",
        "\n",
        "When we call the `.fit()` function in our code, it makes assumptions:\n",
        "- Keras is first calling the generator function(dataAugmentaion)\n",
        "- Generator function(dataAugmentaion) provides a batch_size of 32 to our .fit_generator() function.\n",
        "- The `.fit_()` function first accepts a batch of the dataset, then performs backpropagation on it, and then updates the weights in our model.\n",
        "- For the number of epochs specified the process is repeated.\n",
        "\n",
        "**Arguments**\n",
        "- **object** : the keras object model to train. It could be defined as one of two ways\n",
        "  - **X** and **Y**: training data and training labels. They can be Vector, array or matrix each\n",
        "  - **generator** : a single output of the generator makes a single batch and hence all arrays in the list must be having the length equal to the size of the batch. \n",
        "The generator is expected to loop over its data infinite number of times, it should never return or exit. The output of a generator is a list of the form: \n",
        "    - (inputs, targets) \n",
        "    - (input, targets, sample_weights) \n",
        "- `batch_size` : it can take any integer value or NULL and by default, it will\n",
        "be set to 32. It specifies the number of samples per gradient. BUT Do not specify the batch_size if your data is in the form of a dataset, generators, or `keras.utils.Sequence` instances (since they generate batches).\n",
        "- `epochs` :  Integer. Number of epochs to train the model. An epoch is an iteration over the entire x and y data provided. Note that in conjunction with initial_epoch, epochs is to be understood as \"final epoch\". The model is not trained for a number of iterations given by epochs, but merely until the epoch of index epochs is reached.\n",
        "- `callbacks`: List of callbacks to apply during training.\n",
        "- `validation_data` can be either: \n",
        "   - an inputs and targets list \n",
        "   - a generator \n",
        "   - an inputs, targets, and sample_weights list which can be used to evaluate the loss and metrics for any model after any epoch has ended.\n",
        "- `shuffle` : whether we want to shuffle our training data before each epoch     \n",
        "- `steps_per_epoch` : it specifies the total number of steps taken before\n",
        "one epoch has finished and started the next epoch. By default it values is set to NULL. We can calculate the value of `steps_per_epoch` as the total number of samples in your dataset divided by the batch size.\n",
        "- `validation_steps` :only if the validation_data is a generator then only this argument can be used. It specifies the total number of steps taken from the generator before it is stopped at every epoch and its value is calculated as the total number of validation data points in your dataset divided by the validation batch size."
      ]
    },
    {
      "cell_type": "code",
      "metadata": {
        "id": "h4Ugx0OEy8wc",
        "colab_type": "code",
        "colab": {
          "base_uri": "https://localhost:8080/",
          "height": 527
        },
        "outputId": "42b3e0a6-d3d7-4b6c-fc60-66ae8b6d1281"
      },
      "source": [
        "nb_train_samples=1314\n",
        "nb_validation_samples=874\n",
        "epochs=55\n",
        "\n",
        "history=model.fit(\n",
        "    train_generator,\n",
        "    steps_per_epoch=nb_train_samples // batch_size,\n",
        "    epochs=epochs,\n",
        "    callbacks=[AccCallback()],\n",
        "    validation_data=validation_generator,\n",
        "    validation_steps=nb_validation_samples // batch_size)\n"
      ],
      "execution_count": 17,
      "outputs": [
        {
          "output_type": "stream",
          "text": [
            "Epoch 1/55\n",
            "41/41 [==============================] - 40s 978ms/step - loss: 1.1473 - accuracy: 0.3768 - val_loss: 1.0597 - val_accuracy: 0.5845\n",
            "Epoch 2/55\n",
            "41/41 [==============================] - 41s 1000ms/step - loss: 0.8913 - accuracy: 0.5671 - val_loss: 0.4402 - val_accuracy: 0.8611\n",
            "Epoch 3/55\n",
            "41/41 [==============================] - 40s 966ms/step - loss: 0.5175 - accuracy: 0.8190 - val_loss: 0.2772 - val_accuracy: 0.9144\n",
            "Epoch 4/55\n",
            "41/41 [==============================] - 39s 962ms/step - loss: 0.3232 - accuracy: 0.8853 - val_loss: 0.1993 - val_accuracy: 0.9178\n",
            "Epoch 5/55\n",
            "41/41 [==============================] - 43s 1s/step - loss: 0.3010 - accuracy: 0.8924 - val_loss: 0.2381 - val_accuracy: 0.9144\n",
            "Epoch 6/55\n",
            "41/41 [==============================] - 39s 959ms/step - loss: 0.2780 - accuracy: 0.8931 - val_loss: 0.1493 - val_accuracy: 0.9502\n",
            "Epoch 7/55\n",
            "41/41 [==============================] - 40s 966ms/step - loss: 0.2655 - accuracy: 0.9111 - val_loss: 0.2127 - val_accuracy: 0.9352\n",
            "Epoch 8/55\n",
            "41/41 [==============================] - 40s 974ms/step - loss: 0.2033 - accuracy: 0.9376 - val_loss: 0.2241 - val_accuracy: 0.9213\n",
            "Epoch 9/55\n",
            "41/41 [==============================] - 40s 977ms/step - loss: 0.1914 - accuracy: 0.9353 - val_loss: 0.1261 - val_accuracy: 0.9606\n",
            "Epoch 10/55\n",
            "41/41 [==============================] - 40s 968ms/step - loss: 0.1698 - accuracy: 0.9368 - val_loss: 0.0991 - val_accuracy: 0.9560\n",
            "Epoch 11/55\n",
            "41/41 [==============================] - 40s 986ms/step - loss: 0.1918 - accuracy: 0.9399 - val_loss: 0.1402 - val_accuracy: 0.9560\n",
            "Epoch 12/55\n",
            "41/41 [==============================] - 40s 983ms/step - loss: 0.1600 - accuracy: 0.9516 - val_loss: 0.1375 - val_accuracy: 0.9606\n",
            "Epoch 13/55\n",
            "41/41 [==============================] - 40s 986ms/step - loss: 0.1716 - accuracy: 0.9438 - val_loss: 0.0636 - val_accuracy: 0.9757\n",
            "Epoch 14/55\n",
            "41/41 [==============================] - ETA: 0s - loss: 0.1089 - accuracy: 0.9626\n",
            "Reached 96.00% accuracy, so stopping training!!\n",
            "41/41 [==============================] - 40s 982ms/step - loss: 0.1089 - accuracy: 0.9626 - val_loss: 0.0927 - val_accuracy: 0.9688\n"
          ],
          "name": "stdout"
        }
      ]
    },
    {
      "cell_type": "markdown",
      "metadata": {
        "id": "g8pDxD20Lbwy",
        "colab_type": "text"
      },
      "source": [
        "<h2>Accuracy Plot</h2>"
      ]
    },
    {
      "cell_type": "code",
      "metadata": {
        "id": "Xz_5YGfFLeqQ",
        "colab_type": "code",
        "colab": {
          "base_uri": "https://localhost:8080/",
          "height": 516
        },
        "outputId": "44adb689-9fa1-4771-ef51-e753e244e5dc"
      },
      "source": [
        "acc = history.history['accuracy']\n",
        "val_acc = history.history['val_accuracy']\n",
        "\n",
        "loss = history.history['loss']\n",
        "val_loss = history.history['val_loss']\n",
        "\n",
        "epochs = range(len(acc))\n",
        "\n",
        "from matplotlib.pyplot import figure,subplot,plot,legend,title,show\n",
        "figure(figsize=(8,8))\n",
        "subplot(1, 2, 1)\n",
        "plot(epochs, acc, 'r', label='Training Accuracy')\n",
        "plot(epochs, val_acc, 'b', label='Validation Accuracy')\n",
        "legend(loc='lower right')\n",
        "title('Training and Validation Accuracy')\n",
        "show\n",
        "\n",
        "subplot(1, 2, 2)\n",
        "plot(epochs, loss, 'r', label='Training Loss')\n",
        "plot(epochs, val_loss, 'b', label='Validation Loss')\n",
        "legend(loc='upper right')\n",
        "title('Training and Validation Loss')\n",
        "show"
      ],
      "execution_count": 18,
      "outputs": [
        {
          "output_type": "execute_result",
          "data": {
            "text/plain": [
              "<function matplotlib.pyplot.show>"
            ]
          },
          "metadata": {
            "tags": []
          },
          "execution_count": 18
        },
        {
          "output_type": "display_data",
          "data": {
            "image/png": "[encoded data removed]",
            "text/plain": [
              "<Figure size 576x576 with 2 Axes>"
            ]
          },
          "metadata": {
            "tags": [],
            "needs_background": "light"
          }
        }
      ]
    },
    {
      "cell_type": "markdown",
      "metadata": {
        "id": "HgIbLmKiDo3p",
        "colab_type": "text"
      },
      "source": [
        "<h2>Prediction</h2>"
      ]
    },
    {
      "cell_type": "code",
      "metadata": {
        "id": "k_rZ11c3r7Te",
        "colab_type": "code",
        "colab": {
          "resources": {
            "http://localhost:8080/nbextensions/google.colab/files.js": {
              "data": "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",
              "ok": true,
              "headers": [
                [
                  "content-type",
                  "application/javascript"
                ]
              ],
              "status": 200,
              "status_text": ""
            }
          },
          "base_uri": "https://localhost:8080/",
          "height": 374
        },
        "outputId": "cea2d6d3-51f2-4c93-8a84-4cbde8051392"
      },
      "source": [
        "import numpy as np\n",
        "from google.colab import files\n",
        "from keras.preprocessing import image\n",
        "import matplotlib.pyplot as plt\n",
        "import matplotlib.image as mpimg\n",
        "import matplotlib.pyplot as plt\n",
        "import matplotlib.image as mpimg\n",
        "%matplotlib inline\n",
        " \n",
        "uploaded = files.upload()\n",
        " \n",
        "for fn in uploaded.keys():\n",
        " \n",
        "  # predicting images\n",
        "  path = fn\n",
        "  img = image.load_img(path, target_size=(120,120))\n",
        "  imgplot = plt.imshow(img)\n",
        "  x = image.img_to_array(img)\n",
        "  x = np.expand_dims(x, axis=0)\n",
        " \n",
        "  images = np.vstack([x])\n",
        "  classes = model.predict(images, batch_size=32)\n",
        "  \n",
        "  print(fn)\n",
        "  if classes[0][0]==1:\n",
        "    print('paper')\n",
        "  elif classes[0][1]==1:\n",
        "    print('rock')\n",
        "  elif classes[0][2]==1:\n",
        "    print('scissors')\n",
        "  else:\n",
        "    print(\"Not Sure\")"
      ],
      "execution_count": 19,
      "outputs": [
        {
          "output_type": "stream",
          "text": [
            "Using TensorFlow backend.\n"
          ],
          "name": "stderr"
        },
        {
          "output_type": "display_data",
          "data": {
            "text/html": [
              "\n",
              "     <input type=\"file\" id=\"files-555d8be5-c171-463d-ba93-4aa1924e1e34\" name=\"files[]\" multiple disabled\n",
              "        style=\"border:none\" />\n",
              "     <output id=\"result-555d8be5-c171-463d-ba93-4aa1924e1e34\">\n",
              "      Upload widget is only available when the cell has been executed in the\n",
              "      current browser session. Please rerun this cell to enable.\n",
              "      </output>\n",
              "      <script src=\"/nbextensions/google.colab/files.js\"></script> "
            ],
            "text/plain": [
              "<IPython.core.display.HTML object>"
            ]
          },
          "metadata": {
            "tags": []
          }
        },
        {
          "output_type": "stream",
          "text": [
            "Saving 1Io5Ksm3bqy87EAU.png to 1Io5Ksm3bqy87EAU.png\n",
            "1Io5Ksm3bqy87EAU.png\n",
            "scissors\n"
          ],
          "name": "stdout"
        },
        {
          "output_type": "display_data",
          "data": {
            "image/png": "[encoded data removed]",
            "text/plain": [
              "<Figure size 432x288 with 1 Axes>"
            ]
          },
          "metadata": {
            "tags": [],
            "needs_background": "light"
          }
        }
      ]
    }
  ]
}
